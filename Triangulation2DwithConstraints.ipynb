{
 "cells": [
  {
   "cell_type": "code",
   "execution_count": 1,
   "metadata": {},
   "outputs": [],
   "source": [
    "from __future__ import print_function\n",
    "from CGAL.CGAL_Kernel import Point_2\n",
    "from CGAL.CGAL_Triangulation_2 import Constraint\n",
    "from CGAL.CGAL_Triangulation_2 import Constrained_Delaunay_triangulation_plus_2\n",
    "from CGAL.CGAL_Triangulation_2 import Ref_Constrained_Delaunay_triangulation_plus_2_Face_handle\n",
    "from CGAL.CGAL_Kernel import Ref_int"
   ]
  },
  {
   "cell_type": "code",
   "execution_count": 2,
   "metadata": {},
   "outputs": [],
   "source": [
    "constraints = []\n",
    "\n",
    "constraints.append(Constraint(Point_2(745, 118), Point_2(777, 88)))\n",
    "constraints.append(Constraint(Point_2(744, 888), Point_2(71177, 88)))\n",
    "constraints.append(Constraint(Point_2(711, 888), Point_2(7757, 88)))"
   ]
  },
  {
   "cell_type": "code",
   "execution_count": 3,
   "metadata": {},
   "outputs": [
    {
     "name": "stdout",
     "output_type": "stream",
     "text": [
      "Nb vertices  6\n"
     ]
    }
   ],
   "source": [
    "t = Constrained_Delaunay_triangulation_plus_2(constraints)\n",
    "\n",
    "print(\"Nb vertices \", t.number_of_vertices())"
   ]
  },
  {
   "cell_type": "code",
   "execution_count": 4,
   "metadata": {},
   "outputs": [],
   "source": [
    "v1 = t.insert(Point_2(1, 2))\n",
    "v2 = t.insert(Point_2(3, 2))\n",
    "v3 = t.insert(Point_2(3, 44))"
   ]
  },
  {
   "cell_type": "code",
   "execution_count": 5,
   "metadata": {},
   "outputs": [],
   "source": [
    "lst = []\n",
    "lst.append(Point_2(34, 4))\n",
    "lst.append(Point_2(11, 45))\n",
    "lst.append(Point_2(11, 7))"
   ]
  },
  {
   "cell_type": "code",
   "execution_count": 6,
   "metadata": {},
   "outputs": [
    {
     "name": "stdout",
     "output_type": "stream",
     "text": [
      "2\n",
      "infinite edge\n",
      "744 888 71177 88\n",
      "infinite edge\n",
      "745 118 711 888\n",
      "3 44 745 118\n",
      "777 88 3 2\n",
      "3 2 7757 88\n",
      "7757 88 777 88\n",
      "infinite edge\n",
      "3 2 1 2\n",
      "3 2 745 118\n",
      "3 44 3 2\n",
      "744 888 7757 88\n",
      "7757 88 71177 88\n",
      "711 888 744 888\n",
      "71177 88 3 2\n",
      "777 88 745 118\n",
      "711 888 7757 88\n",
      "711 888 777 88\n",
      "3 44 711 888\n",
      "infinite edge\n",
      "infinite edge\n",
      "1 2 3 44\n",
      "infinite edge\n"
     ]
    }
   ],
   "source": [
    "print(t.dimension())\n",
    "for e in t.all_edges():\n",
    "    if not t.is_infinite(e):\n",
    "        print(t.segment(e))\n",
    "    else:\n",
    "        print(\"infinite edge\")"
   ]
  },
  {
   "cell_type": "code",
   "execution_count": 7,
   "metadata": {},
   "outputs": [
    {
     "name": "stdout",
     "output_type": "stream",
     "text": [
      "34 4\n",
      "11 45\n",
      "11 7\n"
     ]
    }
   ],
   "source": [
    "for e in lst:\n",
    "    print(e)"
   ]
  },
  {
   "cell_type": "code",
   "execution_count": 8,
   "metadata": {},
   "outputs": [
    {
     "name": "stdout",
     "output_type": "stream",
     "text": [
      "Try point range insertion\n"
     ]
    },
    {
     "data": {
      "text/plain": [
       "3"
      ]
     },
     "execution_count": 8,
     "metadata": {},
     "output_type": "execute_result"
    }
   ],
   "source": [
    "print(\"Try point range insertion\")\n",
    "t.insert(lst)"
   ]
  },
  {
   "cell_type": "code",
   "execution_count": 9,
   "metadata": {},
   "outputs": [],
   "source": [
    "edges = []\n",
    "for v in t.finite_vertices():\n",
    "    t.incident_constraints(v, edges)"
   ]
  },
  {
   "cell_type": "code",
   "execution_count": 10,
   "metadata": {},
   "outputs": [
    {
     "name": "stdout",
     "output_type": "stream",
     "text": [
      "Nb incident constraints  6\n",
      "12\n"
     ]
    }
   ],
   "source": [
    "rf = Ref_Constrained_Delaunay_triangulation_plus_2_Face_handle()\n",
    "ri = Ref_int()\n",
    "t.is_edge(edges[0][0].vertex(t.cw(edges[0][1])),\n",
    "          edges[0][0].vertex(t.ccw(edges[0][1])),\n",
    "          rf, ri)\n",
    "assert(rf.object() == edges[0][0] or rf.object() == edges[0][0].neighbor(edges[1]))\n",
    "\n",
    "\n",
    "print(\"Nb incident constraints \", len(edges))\n",
    "\n",
    "print(t.number_of_vertices())"
   ]
  },
  {
   "cell_type": "code",
   "execution_count": 11,
   "metadata": {},
   "outputs": [
    {
     "name": "stdout",
     "output_type": "stream",
     "text": [
      "745 118\n",
      "777 88\n",
      "744 888\n",
      "71177 88\n",
      "711 888\n",
      "7757 88\n",
      "1 2\n",
      "3 2\n",
      "3 44\n",
      "11 45\n",
      "11 7\n",
      "34 4\n"
     ]
    }
   ],
   "source": [
    "for v in t.finite_vertices():\n",
    "    print(v.point())"
   ]
  },
  {
   "cell_type": "code",
   "execution_count": null,
   "metadata": {},
   "outputs": [],
   "source": []
  },
  {
   "cell_type": "code",
   "execution_count": null,
   "metadata": {},
   "outputs": [],
   "source": []
  }
 ],
 "metadata": {
  "kernelspec": {
   "display_name": "Python 3",
   "language": "python",
   "name": "python3"
  },
  "language_info": {
   "codemirror_mode": {
    "name": "ipython",
    "version": 3
   },
   "file_extension": ".py",
   "mimetype": "text/x-python",
   "name": "python",
   "nbconvert_exporter": "python",
   "pygments_lexer": "ipython3",
   "version": "3.7.3"
  }
 },
 "nbformat": 4,
 "nbformat_minor": 4
}
